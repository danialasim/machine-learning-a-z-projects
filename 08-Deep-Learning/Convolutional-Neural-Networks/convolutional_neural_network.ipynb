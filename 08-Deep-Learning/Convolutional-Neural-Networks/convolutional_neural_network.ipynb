{
 "cells": [
  {
   "cell_type": "markdown",
   "metadata": {
    "id": "3DR-eO17geWu"
   },
   "source": [
    "# Convolutional Neural Network"
   ]
  },
  {
   "cell_type": "markdown",
   "metadata": {
    "id": "EMefrVPCg-60"
   },
   "source": [
    "### Importing the libraries"
   ]
  },
  {
   "cell_type": "code",
   "execution_count": 1,
   "metadata": {
    "id": "sCV30xyVhFbE"
   },
   "outputs": [
    {
     "name": "stderr",
     "output_type": "stream",
     "text": [
      "2025-05-12 19:18:32.287165: I tensorflow/core/platform/cpu_feature_guard.cc:182] This TensorFlow binary is optimized to use available CPU instructions in performance-critical operations.\n",
      "To enable the following instructions: AVX2 FMA, in other operations, rebuild TensorFlow with the appropriate compiler flags.\n"
     ]
    }
   ],
   "source": [
    "import tensorflow as tf\n",
    "from tensorflow.keras.preprocessing.image import ImageDataGenerator"
   ]
  },
  {
   "cell_type": "code",
   "execution_count": 2,
   "metadata": {
    "id": "FIleuCAjoFD8"
   },
   "outputs": [
    {
     "data": {
      "text/plain": [
       "'2.13.0'"
      ]
     },
     "execution_count": 2,
     "metadata": {},
     "output_type": "execute_result"
    }
   ],
   "source": [
    "tf.__version__"
   ]
  },
  {
   "cell_type": "markdown",
   "metadata": {
    "id": "oxQxCBWyoGPE"
   },
   "source": [
    "## Part 1 - Data Preprocessing"
   ]
  },
  {
   "cell_type": "markdown",
   "metadata": {
    "id": "MvE-heJNo3GG"
   },
   "source": [
    "### Preprocessing the Training set"
   ]
  },
  {
   "cell_type": "code",
   "execution_count": 3,
   "metadata": {},
   "outputs": [
    {
     "name": "stdout",
     "output_type": "stream",
     "text": [
      "Found 8000 images belonging to 2 classes.\n"
     ]
    }
   ],
   "source": [
    "from keras.preprocessing.image import ImageDataGenerator\n",
    "\n",
    "train_datagen = ImageDataGenerator(\n",
    "    rescale=1./255,\n",
    "    shear_range=0.2,\n",
    "    zoom_range=0.2,\n",
    "    horizontal_flip=True\n",
    ")\n",
    "\n",
    "train_generator = train_datagen.flow_from_directory(\n",
    "    'dataset/training_set',  # <-- Corrected path\n",
    "    target_size=(64, 64),\n",
    "    batch_size=32,\n",
    "    class_mode='binary'\n",
    ")\n"
   ]
  },
  {
   "cell_type": "markdown",
   "metadata": {
    "id": "mrCMmGw9pHys"
   },
   "source": [
    "### Preprocessing the Test set"
   ]
  },
  {
   "cell_type": "code",
   "execution_count": 4,
   "metadata": {},
   "outputs": [
    {
     "name": "stdout",
     "output_type": "stream",
     "text": [
      "Found 2000 images belonging to 2 classes.\n"
     ]
    }
   ],
   "source": [
    "test_datagen = ImageDataGenerator(rescale=1./255)\n",
    "test_generator = train_datagen.flow_from_directory(\n",
    "    'dataset/test_set',  # <-- Corrected path\n",
    "    target_size=(64, 64),\n",
    "    batch_size=32,\n",
    "    class_mode='binary'\n",
    ")"
   ]
  },
  {
   "cell_type": "markdown",
   "metadata": {
    "id": "af8O4l90gk7B"
   },
   "source": [
    "## Part 2 - Building the CNN"
   ]
  },
  {
   "cell_type": "markdown",
   "metadata": {
    "id": "ces1gXY2lmoX"
   },
   "source": [
    "### Initialising the CNN"
   ]
  },
  {
   "cell_type": "code",
   "execution_count": 5,
   "metadata": {},
   "outputs": [],
   "source": [
    "cnn = tf.keras.models.Sequential()"
   ]
  },
  {
   "cell_type": "markdown",
   "metadata": {
    "id": "u5YJj_XMl5LF"
   },
   "source": [
    "### Step 1 - Convolution"
   ]
  },
  {
   "cell_type": "code",
   "execution_count": 6,
   "metadata": {},
   "outputs": [],
   "source": [
    "cnn.add(tf.keras.layers.Conv2D(filters=32, kernel_size=(3, 3), activation='relu', input_shape=(64, 64, 3)))"
   ]
  },
  {
   "cell_type": "markdown",
   "metadata": {
    "id": "tf87FpvxmNOJ"
   },
   "source": [
    "### Step 2 - Pooling"
   ]
  },
  {
   "cell_type": "code",
   "execution_count": 7,
   "metadata": {},
   "outputs": [],
   "source": [
    "cnn.add(tf.keras.layers.MaxPool2D(pool_size=(2, 2), strides=2))"
   ]
  },
  {
   "cell_type": "markdown",
   "metadata": {
    "id": "xaTOgD8rm4mU"
   },
   "source": [
    "### Adding a second convolutional layer"
   ]
  },
  {
   "cell_type": "code",
   "execution_count": 8,
   "metadata": {},
   "outputs": [],
   "source": [
    "cnn.add(tf.keras.layers.Conv2D(filters=32, kernel_size=(3, 3), activation='relu'))\n",
    "cnn.add(tf.keras.layers.MaxPool2D(pool_size=(2, 2), strides=2))"
   ]
  },
  {
   "cell_type": "markdown",
   "metadata": {
    "id": "tmiEuvTunKfk"
   },
   "source": [
    "### Step 3 - Flattening"
   ]
  },
  {
   "cell_type": "code",
   "execution_count": 9,
   "metadata": {},
   "outputs": [],
   "source": [
    "cnn.add(tf.keras.layers.Flatten())"
   ]
  },
  {
   "cell_type": "markdown",
   "metadata": {
    "id": "dAoSECOm203v"
   },
   "source": [
    "### Step 4 - Full Connection"
   ]
  },
  {
   "cell_type": "code",
   "execution_count": 10,
   "metadata": {},
   "outputs": [],
   "source": [
    "cnn.add(tf.keras.layers.Dense(units=128, activation='relu'))"
   ]
  },
  {
   "cell_type": "markdown",
   "metadata": {
    "id": "yTldFvbX28Na"
   },
   "source": [
    "### Step 5 - Output Layer"
   ]
  },
  {
   "cell_type": "code",
   "execution_count": 11,
   "metadata": {},
   "outputs": [],
   "source": [
    "cnn.add(tf.keras.layers.Dense(units=1, activation='sigmoid'))"
   ]
  },
  {
   "cell_type": "markdown",
   "metadata": {
    "id": "D6XkI90snSDl"
   },
   "source": [
    "## Part 3 - Training the CNN"
   ]
  },
  {
   "cell_type": "markdown",
   "metadata": {
    "id": "vfrFQACEnc6i"
   },
   "source": [
    "### Compiling the CNN"
   ]
  },
  {
   "cell_type": "code",
   "execution_count": 12,
   "metadata": {},
   "outputs": [],
   "source": [
    "cnn.compile(optimizer = \"adam\", loss = \"binary_crossentropy\", metrics = ['accuracy'])"
   ]
  },
  {
   "cell_type": "markdown",
   "metadata": {
    "id": "ehS-v3MIpX2h"
   },
   "source": [
    "### Training the CNN on the Training set and evaluating it on the Test set"
   ]
  },
  {
   "cell_type": "code",
   "execution_count": 13,
   "metadata": {},
   "outputs": [
    {
     "name": "stdout",
     "output_type": "stream",
     "text": [
      "Epoch 1/30\n",
      "250/250 [==============================] - 44s 174ms/step - loss: 0.6621 - accuracy: 0.5974 - val_loss: 0.6120 - val_accuracy: 0.6840\n",
      "Epoch 2/30\n",
      "250/250 [==============================] - 37s 148ms/step - loss: 0.5904 - accuracy: 0.6885 - val_loss: 0.6092 - val_accuracy: 0.6875\n",
      "Epoch 3/30\n",
      "250/250 [==============================] - 42s 169ms/step - loss: 0.5570 - accuracy: 0.7153 - val_loss: 0.5696 - val_accuracy: 0.7015\n",
      "Epoch 4/30\n",
      "250/250 [==============================] - 46s 182ms/step - loss: 0.5314 - accuracy: 0.7285 - val_loss: 0.5447 - val_accuracy: 0.7250\n",
      "Epoch 5/30\n",
      "250/250 [==============================] - 44s 175ms/step - loss: 0.5137 - accuracy: 0.7380 - val_loss: 0.5205 - val_accuracy: 0.7520\n",
      "Epoch 6/30\n",
      "250/250 [==============================] - 40s 160ms/step - loss: 0.4946 - accuracy: 0.7599 - val_loss: 0.5018 - val_accuracy: 0.7670\n",
      "Epoch 7/30\n",
      "250/250 [==============================] - 42s 166ms/step - loss: 0.4714 - accuracy: 0.7765 - val_loss: 0.4896 - val_accuracy: 0.7770\n",
      "Epoch 8/30\n",
      "250/250 [==============================] - 44s 178ms/step - loss: 0.4631 - accuracy: 0.7805 - val_loss: 0.4856 - val_accuracy: 0.7755\n",
      "Epoch 9/30\n",
      "250/250 [==============================] - 43s 174ms/step - loss: 0.4446 - accuracy: 0.7872 - val_loss: 0.4906 - val_accuracy: 0.7760\n",
      "Epoch 10/30\n",
      "250/250 [==============================] - 47s 189ms/step - loss: 0.4288 - accuracy: 0.7986 - val_loss: 0.4658 - val_accuracy: 0.7790\n",
      "Epoch 11/30\n",
      "250/250 [==============================] - 45s 180ms/step - loss: 0.4242 - accuracy: 0.8024 - val_loss: 0.4709 - val_accuracy: 0.7785\n",
      "Epoch 12/30\n",
      "250/250 [==============================] - 42s 170ms/step - loss: 0.4054 - accuracy: 0.8115 - val_loss: 0.4736 - val_accuracy: 0.7900\n",
      "Epoch 13/30\n",
      "250/250 [==============================] - 39s 154ms/step - loss: 0.3942 - accuracy: 0.8194 - val_loss: 0.4665 - val_accuracy: 0.7865\n",
      "Epoch 14/30\n",
      "250/250 [==============================] - 37s 150ms/step - loss: 0.3851 - accuracy: 0.8244 - val_loss: 0.4699 - val_accuracy: 0.7865\n",
      "Epoch 15/30\n",
      "250/250 [==============================] - 38s 151ms/step - loss: 0.3740 - accuracy: 0.8273 - val_loss: 0.4553 - val_accuracy: 0.7965\n",
      "Epoch 16/30\n",
      "250/250 [==============================] - 42s 169ms/step - loss: 0.3605 - accuracy: 0.8346 - val_loss: 0.5229 - val_accuracy: 0.7710\n",
      "Epoch 17/30\n",
      "250/250 [==============================] - 41s 164ms/step - loss: 0.3474 - accuracy: 0.8436 - val_loss: 0.4916 - val_accuracy: 0.7735\n",
      "Epoch 18/30\n",
      "250/250 [==============================] - 39s 156ms/step - loss: 0.3391 - accuracy: 0.8515 - val_loss: 0.4645 - val_accuracy: 0.8030\n",
      "Epoch 19/30\n",
      "250/250 [==============================] - 40s 159ms/step - loss: 0.3322 - accuracy: 0.8495 - val_loss: 0.4753 - val_accuracy: 0.7910\n",
      "Epoch 20/30\n",
      "250/250 [==============================] - 40s 159ms/step - loss: 0.3168 - accuracy: 0.8655 - val_loss: 0.4797 - val_accuracy: 0.7825\n",
      "Epoch 21/30\n",
      "250/250 [==============================] - 45s 181ms/step - loss: 0.3108 - accuracy: 0.8641 - val_loss: 0.4661 - val_accuracy: 0.7925\n",
      "Epoch 22/30\n",
      "250/250 [==============================] - 39s 156ms/step - loss: 0.2995 - accuracy: 0.8721 - val_loss: 0.4839 - val_accuracy: 0.8075\n",
      "Epoch 23/30\n",
      "250/250 [==============================] - 39s 154ms/step - loss: 0.2801 - accuracy: 0.8798 - val_loss: 0.4934 - val_accuracy: 0.7975\n",
      "Epoch 24/30\n",
      "250/250 [==============================] - 41s 163ms/step - loss: 0.2844 - accuracy: 0.8779 - val_loss: 0.4805 - val_accuracy: 0.7980\n",
      "Epoch 25/30\n",
      "250/250 [==============================] - 38s 153ms/step - loss: 0.2648 - accuracy: 0.8904 - val_loss: 0.4918 - val_accuracy: 0.7965\n",
      "Epoch 26/30\n",
      "250/250 [==============================] - 37s 150ms/step - loss: 0.2530 - accuracy: 0.8941 - val_loss: 0.5432 - val_accuracy: 0.7975\n",
      "Epoch 27/30\n",
      "250/250 [==============================] - 39s 155ms/step - loss: 0.2460 - accuracy: 0.9016 - val_loss: 0.5258 - val_accuracy: 0.7965\n",
      "Epoch 28/30\n",
      "250/250 [==============================] - 39s 155ms/step - loss: 0.2465 - accuracy: 0.8960 - val_loss: 0.5001 - val_accuracy: 0.8015\n",
      "Epoch 29/30\n",
      "250/250 [==============================] - 38s 151ms/step - loss: 0.2203 - accuracy: 0.9086 - val_loss: 0.5714 - val_accuracy: 0.7905\n",
      "Epoch 30/30\n",
      "250/250 [==============================] - 39s 156ms/step - loss: 0.2186 - accuracy: 0.9115 - val_loss: 0.5477 - val_accuracy: 0.7985\n"
     ]
    },
    {
     "data": {
      "text/plain": [
       "<keras.src.callbacks.History at 0x7f88f708e290>"
      ]
     },
     "execution_count": 13,
     "metadata": {},
     "output_type": "execute_result"
    }
   ],
   "source": [
    "cnn.fit(x=train_generator, validation_data=test_generator, epochs=30)"
   ]
  },
  {
   "cell_type": "markdown",
   "metadata": {
    "id": "U3PZasO0006Z"
   },
   "source": [
    "## Part 4 - Making a single prediction"
   ]
  },
  {
   "cell_type": "code",
   "execution_count": 20,
   "metadata": {},
   "outputs": [
    {
     "name": "stdout",
     "output_type": "stream",
     "text": [
      "1/1 [==============================] - 0s 19ms/step\n"
     ]
    }
   ],
   "source": [
    "import numpy as np\n",
    "from tensorflow.keras.preprocessing import image\n",
    "test_image = image.load_img('dataset/single_prediction/dog.1.jpg', target_size = (64, 64))\n",
    "test_image = image.img_to_array(test_image)\n",
    "test_image = np.expand_dims(test_image, axis = 0)\n",
    "result = cnn.predict(test_image)\n",
    "train_generator.class_indices\n",
    "if result[0][0] == 1:\n",
    "  prediction = 'dog'\n",
    "else:\n",
    "  prediction = 'cat'"
   ]
  },
  {
   "cell_type": "code",
   "execution_count": 21,
   "metadata": {
    "id": "ED9KB3I54c1i"
   },
   "outputs": [
    {
     "name": "stdout",
     "output_type": "stream",
     "text": [
      "dog\n"
     ]
    }
   ],
   "source": [
    "print(prediction)"
   ]
  },
  {
   "cell_type": "code",
   "execution_count": 22,
   "metadata": {},
   "outputs": [
    {
     "name": "stdout",
     "output_type": "stream",
     "text": [
      "Found 2000 images belonging to 2 classes.\n"
     ]
    }
   ],
   "source": [
    "from tensorflow.keras.preprocessing.image import ImageDataGenerator\n",
    "\n",
    "# Use test_datagen, not train_datagen\n",
    "test_datagen = ImageDataGenerator(rescale=1./255)\n",
    "\n",
    "test_generator = test_datagen.flow_from_directory(\n",
    "    'dataset/test_set',         # path to your test dataset\n",
    "    target_size=(64, 64),\n",
    "    batch_size=32,\n",
    "    class_mode='binary',\n",
    "    shuffle=False               # keep it False to match predictions with true labels\n",
    ")\n"
   ]
  },
  {
   "cell_type": "code",
   "execution_count": 23,
   "metadata": {},
   "outputs": [
    {
     "name": "stdout",
     "output_type": "stream",
     "text": [
      "63/63 [==============================] - 4s 64ms/step\n",
      "✅ Accuracy on test set: 80.30%\n",
      "\n",
      "📊 Classification Report:\n",
      "              precision    recall  f1-score   support\n",
      "\n",
      "        cats       0.82      0.78      0.80      1000\n",
      "        dogs       0.79      0.83      0.81      1000\n",
      "\n",
      "    accuracy                           0.80      2000\n",
      "   macro avg       0.80      0.80      0.80      2000\n",
      "weighted avg       0.80      0.80      0.80      2000\n",
      "\n",
      "🧩 Confusion Matrix:\n",
      "[[775 225]\n",
      " [169 831]]\n"
     ]
    }
   ],
   "source": [
    "import numpy as np\n",
    "from sklearn.metrics import accuracy_score, classification_report, confusion_matrix\n",
    "\n",
    "# Make predictions on the entire test set\n",
    "predictions = cnn.predict(test_generator)\n",
    "\n",
    "# Convert predictions to class labels (0 or 1)\n",
    "predicted_classes = (predictions > 0.5).astype(int).reshape(-1)\n",
    "\n",
    "# Get true labels\n",
    "true_classes = test_generator.classes\n",
    "\n",
    "# Get class label mapping\n",
    "class_labels = list(test_generator.class_indices.keys())\n",
    "\n",
    "# Evaluate accuracy\n",
    "accuracy = accuracy_score(true_classes, predicted_classes)\n",
    "print(f\"✅ Accuracy on test set: {accuracy * 100:.2f}%\")\n",
    "\n",
    "# Optional: More detailed evaluation\n",
    "print(\"\\n📊 Classification Report:\")\n",
    "print(classification_report(true_classes, predicted_classes, target_names=class_labels))\n",
    "\n",
    "print(\"🧩 Confusion Matrix:\")\n",
    "print(confusion_matrix(true_classes, predicted_classes))"
   ]
  }
 ],
 "metadata": {
  "colab": {
   "authorship_tag": "ABX9TyN2fBThgo8wJQn6Xf6V6crC",
   "provenance": [],
   "toc_visible": true
  },
  "kernelspec": {
   "display_name": "Python 3 (ipykernel)",
   "language": "python",
   "name": "python3"
  },
  "language_info": {
   "codemirror_mode": {
    "name": "ipython",
    "version": 3
   },
   "file_extension": ".py",
   "mimetype": "text/x-python",
   "name": "python",
   "nbconvert_exporter": "python",
   "pygments_lexer": "ipython3",
   "version": "3.10.13"
  }
 },
 "nbformat": 4,
 "nbformat_minor": 4
}
